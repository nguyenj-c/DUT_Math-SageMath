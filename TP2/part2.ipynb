{
 "cells": [
  {
   "cell_type": "code",
   "execution_count": 21,
   "metadata": {
    "collapsed": false
   },
   "outputs": [
    {
     "ename": "SyntaxError",
     "evalue": "invalid syntax (<ipython-input-21-083bc4c5172d>, line 1)",
     "output_type": "error",
     "traceback": [
      "\u001b[0;36m  File \u001b[0;32m\"<ipython-input-21-083bc4c5172d>\"\u001b[0;36m, line \u001b[0;32m1\u001b[0m\n\u001b[0;31m    import DiGraph()\u001b[0m\n\u001b[0m                  ^\u001b[0m\n\u001b[0;31mSyntaxError\u001b[0m\u001b[0;31m:\u001b[0m invalid syntax\n"
     ]
    }
   ],
   "source": [
    "from PIL import Image\n",
    "img=Image.open(\"2.png\")\n",
    "pxl=img.load()\n",
    "nbPixel = img.size[0] * img.size[1]\n",
    "graph = DiGraph(nbPixel, weighted = true)\n",
    "for n in range(nbPixel) :\n",
    "    pixelRGBValues = pxl[int(n/5),int(n%5)]\n",
    "    pixelTotalRGBValue = pixelRGBValues[0]+pixelRGBValues[1]+pixelRGBValues[2]\n",
    "\n",
    "    if ((n + 1) % img.size[0] != 0) :\n",
    "        nextPixelRGBValues = pxl[int(n/5),int(n%5+1)]\n",
    "        nextPixelTotalRGBValue = nextPixelRGBValues[0] + nextPixelRGBValues[1] + nextPixelRGBValues[2]\n",
    "        pixelValueDiff = abs(pixelTotalRGBValue - nextPixelTotalRGBValue)\n",
    "        graph.add_edge(n, n+1, pixelValueDiff)\n",
    "\n",
    "    if (n+img.size[1] < nbPixel) :\n",
    "        nextPixelRGBValues = pxl[int(n/5 + 1),int(n%5)]\n",
    "        nextPixelTotalRGBValue = nextPixelRGBValues[0] + nextPixelRGBValues[1] + nextPixelRGBValues[2]\n",
    "        pixelValueDiff = abs(pixelTotalRGBValue - nextPixelTotalRGBValue)\n",
    "        graph.add_edge(n, n+img.size[1], pixelValueDiff)\n",
    "\n",
    "    if (n+img.size[1] < nbPixel and (n + 1) % img.size[0] != 0) :\n",
    "        nextPixelRGBValues = pxl[int(n/5+1),int(n%5+1)]\n",
    "        nextPixelTotalRGBValue = nextPixelRGBValues[0] + nextPixelRGBValues[1] + nextPixelRGBValues[2]\n",
    "        pixelValueDiff = abs(pixelTotalRGBValue - nextPixelTotalRGBValue)\n",
    "        graph.add_edge(n, n+img.size[1]+1, pixelValueDiff)\n",
    "graph.plot(edge_labels = true)\n",
    "\n",
    "def d(A,B,graph):\n",
    "    if A == B :\n",
    "        d(A,B,G)== 0\n",
    "    else :\n",
    "        if neighbors_out(A) == None :\n",
    "            return +infinity\n",
    "        else :\n",
    "             min(d(A,B, graph - {A}) + pixelValue(A))\n",
    "    return d(A,B,G)\n",
    "\n",
    "A=11\n",
    "B=11\n",
    "C=0\n",
    "D=24\n",
    "E=12\n",
    "F=22\n",
    "d(A,B,graph)"
   ]
  },
  {
   "cell_type": "code",
   "execution_count": 0,
   "metadata": {
    "collapsed": false
   },
   "outputs": [
   ],
   "source": [
   ]
  },
  {
   "cell_type": "code",
   "execution_count": 0,
   "metadata": {
    "collapsed": false
   },
   "outputs": [
   ],
   "source": [
   ]
  },
  {
   "cell_type": "code",
   "execution_count": 0,
   "metadata": {
    "collapsed": false
   },
   "outputs": [
   ],
   "source": [
   ]
  },
  {
   "cell_type": "code",
   "execution_count": 0,
   "metadata": {
    "collapsed": false
   },
   "outputs": [
   ],
   "source": [
   ]
  },
  {
   "cell_type": "code",
   "execution_count": 0,
   "metadata": {
    "collapsed": false
   },
   "outputs": [
   ],
   "source": [
   ]
  }
 ],
 "metadata": {
  "kernelspec": {
   "display_name": "Python 3 (system-wide)",
   "language": "python",
   "metadata": {
    "cocalc": {
     "description": "Python 3 programming language",
     "priority": 100,
     "url": "https://www.python.org/"
    }
   },
   "name": "python3"
  },
  "language_info": {
   "codemirror_mode": {
    "name": "ipython",
    "version": 3
   },
   "file_extension": ".py",
   "mimetype": "text/x-python",
   "name": "python",
   "nbconvert_exporter": "python",
   "pygments_lexer": "ipython3",
   "version": "3.6.9"
  }
 },
 "nbformat": 4,
 "nbformat_minor": 4
}