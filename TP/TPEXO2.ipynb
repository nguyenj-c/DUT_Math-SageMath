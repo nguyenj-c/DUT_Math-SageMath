{
 "cells": [
  {
   "cell_type": "code",
   "execution_count": 1,
   "metadata": {
    "collapsed": false
   },
   "outputs": [
    {
     "ename": "IndentationError",
     "evalue": "unexpected indent (<ipython-input-1-5d7e469e3fa9>, line 47)",
     "output_type": "error",
     "traceback": [
      "\u001b[0;36m  File \u001b[0;32m\"<ipython-input-1-5d7e469e3fa9>\"\u001b[0;36m, line \u001b[0;32m47\u001b[0m\n\u001b[0;31m    Somme = M.shape();\u001b[0m\n\u001b[0m    ^\u001b[0m\n\u001b[0;31mIndentationError\u001b[0m\u001b[0;31m:\u001b[0m unexpected indent\n"
     ]
    }
   ],
   "source": [
    "P = matrix([ ligne1, ligne2 ])\n",
    "ligne1 = [0,0,0,0,0,0,0,0,0,0,0,0,0,0,0,0,0,0,0,0,0,0,0,0,0,0];\n",
    "ligne2 = [0,0,0,0,0,0,0,0,0,0,0,0,0,0,0,0,0,0,0,0,0,0,0,0,0,0];\n",
    "G = Graph([(extern, 'amazon')])\n",
    "H = G.show()\n",
    "\n",
    "Q = matrix([ ligne1, ligne2, ligne3, ligne4, ligne5, ligne6, ligne7, ligne8, ligne9, ligne10, ligne11, ligne12, ligne13, ligne14, ligne15, ligne16 ])\n",
    "ligne1 = [0,1,1,1,1,1,0,1,1,1,1,1,0,1,1,1];\n",
    "ligne2 = [0,1,0,1,1,1,0,1,1,1,1,1,0,1,1,1];\n",
    "ligne3 = [0,1,0,1,1,1,0,1,1,1,1,1,0,1,1,1];\n",
    "ligne4 = [0,1,0,0,0,0,0,0,0,0,0,0,0,0,0,0];\n",
    "ligne5 = [0,1,0,1,1,1,0,1,1,1,1,1,0,1,1,1];\n",
    "ligne6 = [0,1,0,1,1,1,0,1,1,1,1,1,0,1,1,1];\n",
    "ligne7 = [0,1,0,1,1,1,0,1,1,1,1,1,0,1,1,1];\n",
    "ligne8 = [0,1,0,1,1,1,0,1,1,1,1,1,0,1,1,1];\n",
    "ligne9 = [0,1,0,1,1,1,0,1,1,1,1,1,0,1,1,1];\n",
    "ligne10 = [0,1,0,1,1,1,0,1,1,1,1,1,0,1,1,1];\n",
    "ligne11 = [0,1,0,1,1,1,0,1,1,1,1,1,0,1,1,1];\n",
    "ligne12 = [0,1,0,1,1,1,0,1,1,1,1,1,0,1,1,1];\n",
    "ligne13 = [0,1,0,1,1,1,0,1,1,1,1,1,0,1,1,1];\n",
    "ligne14 = [0,1,0,1,1,1,0,1,1,1,1,1,0,1,1,1];\n",
    "ligne15 = [0,1,0,1,1,1,0,1,1,1,1,1,0,1,1,1];\n",
    "ligne16 = [0,1,0,1,1,1,0,1,1,1,1,1,0,1,1,1];\n",
    "G2 = Graph([(extern, 'youtube')])\n",
    "H2 = G2.show()\n",
    "\n",
    "R = matrix([ ligne1, ligne2, ligne3, ligne4, ligne5, ligne6, ligne7, ligne8, ligne9, ligne10, ligne11, ligne12, ligne13, ligne14, ligne15, ligne16 ])\n",
    "ligne1 = [0,1,1,1,1,1,1,1,1,1,1,1,1,1,1,1];\n",
    "ligne2 = [0,1,1,1,1,1,1,1,0,1,1,1,1,1,1,1];\n",
    "ligne3 = [0,1,1,0,0,0,0,0,0,0,0,0,0,0,0,0];\n",
    "ligne4 = [0,1,1,1,1,1,1,1,0,1,1,1,1,1,1,1];\n",
    "ligne5 = [0,1,0,1,1,1,1,1,0,1,1,1,1,1,1,1];\n",
    "ligne6 = [0,1,0,1,1,1,1,1,0,1,1,1,1,1,1,1];\n",
    "ligne7 = [0,1,0,1,1,1,1,1,0,1,1,1,1,1,1,1];\n",
    "ligne8 = [0,1,0,1,1,1,1,1,0,1,1,1,1,1,1,1];\n",
    "ligne9 = [0,1,0,1,1,1,1,1,0,1,1,1,1,1,1,1];\n",
    "ligne10 = [0,1,1,1,1,1,1,1,0,1,1,1,1,1,1,1];\n",
    "ligne11 = [0,1,0,1,1,1,0,1,1,1,1,1,0,1,1,1];\n",
    "ligne12 = [0,1,0,1,0,0,0,0,0,0,1,0,0,0,0,0];\n",
    "ligne13 = [0,1,0,1,1,1,1,1,0,1,1,1,1,1,1,1];\n",
    "ligne14 = [0,1,0,1,1,1,1,1,0,1,1,1,1,1,1,1];\n",
    "ligne15 = [0,1,0,1,1,1,1,1,0,1,1,1,1,1,1,1];\n",
    "ligne16 = [0,1,0,1,1,1,1,1,0,1,1,1,1,1,1,1];\n",
    "G3 = Graph([(extern, 'cnrs')])\n",
    "H3 = G3.show()\n",
    "\n",
    "    Somme = M.shape();\n",
    "    m=k\n",
    "    for n in range(m):\n",
    "    \tSomme = Somme + Mn ;\n",
    "    clics = True\n",
    "\tm=Somme\n",
    "    for i in range(n):\n",
    "\t    for j in range(n):\n",
    "            if Somme[i,j] == 0:\n",
    "                clics = false;\n",
    "\n",
    "    if clics == False: \n",
    "            show (\" On eut pas atteindre toutes les pages à partir de n’importe quelle page en moins de\" ,k, \"  clics \") ;\n",
    "    else:\n",
    "        show (\" On peut atteindre toutes les pages à partir de n’importe quelle page an moins de \", k, \" clics \") ;\n",
    "\t\t\t\n"
   ]
  }
 ],
 "metadata": {
  "kernelspec": {
   "display_name": "Python 3 (system-wide)",
   "language": "python",
   "metadata": {
    "cocalc": {
     "description": "Python 3 programming language",
     "priority": 100,
     "url": "https://www.python.org/"
    }
   },
   "name": "python3"
  },
  "language_info": {
   "codemirror_mode": {
    "name": "ipython",
    "version": 3
   },
   "file_extension": ".py",
   "mimetype": "text/x-python",
   "name": "python",
   "nbconvert_exporter": "python",
   "pygments_lexer": "ipython3",
   "version": "3.6.9"
  }
 },
 "nbformat": 4,
 "nbformat_minor": 4
}