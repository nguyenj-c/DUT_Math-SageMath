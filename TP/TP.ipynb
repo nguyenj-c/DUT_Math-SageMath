{
 "cells": [
  {
   "cell_type": "code",
   "execution_count": 82,
   "metadata": {
    "collapsed": false
   },
   "outputs": [
    {
     "ename": "SyntaxError",
     "evalue": "invalid syntax (<ipython-input-82-38a82bcc803d>, line 37)",
     "output_type": "error",
     "traceback": [
      "\u001b[0;36m  File \u001b[0;32m\"<ipython-input-82-38a82bcc803d>\"\u001b[0;36m, line \u001b[0;32m37\u001b[0m\n\u001b[0;31m    print(k)\u001b[0m\n\u001b[0m        ^\u001b[0m\n\u001b[0;31mSyntaxError\u001b[0m\u001b[0;31m:\u001b[0m invalid syntax\n"
     ]
    }
   ],
   "source": [
    "A = ([[1,1,1],[1,-1,2],[2,-1,1]])\n",
    "Y=([2,9,7])\n",
    "n=len(A)\n",
    "def multvec(v,x):\n",
    "    for y in v:\n",
    "        y=x*y\n",
    "    return v\n",
    "def subvect(v,x):\n",
    "    for n in range(len(v)):\n",
    "        v[n]=v[n]-x[n]\n",
    "    return v    \n",
    "def indicepivot(A,j):\n",
    "    max=A[j][n-1]\n",
    "    indice=j\n",
    "    for i in range(0,n):\n",
    "        if A[max][j] >= A[j][n-1]:\n",
    "            indice = max\n",
    "    return i\n",
    "def echangelignes(A,i,j):\n",
    "        B=A[i]\n",
    "        A[i]=A[j]\n",
    "        A[j]=B\n",
    "        return\n",
    "def transvection(A,k,j,a):\n",
    "    for a in range(0,len(A)):\n",
    "        A[k]=A[k]+a*A[j]\n",
    "    return A[k]\n",
    "def assemble(A,Y):\n",
    "    A+=[Y]\n",
    "    return\n",
    "for j in range(0,n-2):\n",
    "    indicepivot(A,j)\n",
    "    i=A[0][0]\n",
    "    echangelignes(A,i,j)\n",
    "    for k in range(j+1,n-1):\n",
    "        A[k]=subvect(A[k],multvect(A[j],A[k,j]/A[j,j])\n",
    "    print(k)\n",
    "\n",
    "\n",
    "\n"
   ]
  },
  {
   "cell_type": "code",
   "execution_count": 0,
   "metadata": {
    "collapsed": false
   },
   "outputs": [
   ],
   "source": [
   ]
  },
  {
   "cell_type": "code",
   "execution_count": 0,
   "metadata": {
    "collapsed": false
   },
   "outputs": [
   ],
   "source": [
   ]
  },
  {
   "cell_type": "code",
   "execution_count": 0,
   "metadata": {
    "collapsed": false
   },
   "outputs": [
   ],
   "source": [
   ]
  },
  {
   "cell_type": "code",
   "execution_count": 0,
   "metadata": {
    "collapsed": false
   },
   "outputs": [
   ],
   "source": [
   ]
  },
  {
   "cell_type": "code",
   "execution_count": 0,
   "metadata": {
    "collapsed": false
   },
   "outputs": [
   ],
   "source": [
   ]
  },
  {
   "cell_type": "code",
   "execution_count": 0,
   "metadata": {
    "collapsed": false
   },
   "outputs": [
   ],
   "source": [
   ]
  },
  {
   "cell_type": "code",
   "execution_count": 0,
   "metadata": {
    "collapsed": false
   },
   "outputs": [
   ],
   "source": [
   ]
  },
  {
   "cell_type": "code",
   "execution_count": 0,
   "metadata": {
    "collapsed": false
   },
   "outputs": [
   ],
   "source": [
   ]
  },
  {
   "cell_type": "code",
   "execution_count": 0,
   "metadata": {
    "collapsed": false
   },
   "outputs": [
   ],
   "source": [
   ]
  },
  {
   "cell_type": "code",
   "execution_count": 0,
   "metadata": {
    "collapsed": false
   },
   "outputs": [
   ],
   "source": [
   ]
  }
 ],
 "metadata": {
  "kernelspec": {
   "display_name": "Python 3 (system-wide)",
   "language": "python",
   "metadata": {
    "cocalc": {
     "description": "Python 3 programming language",
     "priority": 100,
     "url": "https://www.python.org/"
    }
   },
   "name": "python3",
   "resource_dir": "/ext/jupyter/kernels/python3"
  }
 },
 "nbformat": 4,
 "nbformat_minor": 4
}