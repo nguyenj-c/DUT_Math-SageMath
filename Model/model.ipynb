{
 "cells": [
  {
   "cell_type": "code",
   "execution_count": 0,
   "metadata": {
    "collapsed": false
   },
   "outputs": [
   ],
   "source": [
    "#a,b,c,d > 0\n",
    "\n",
    "def XYSuivant(x,y,h,a,b):\n",
    "    res = x + h*F1(x, y)\n",
    "    res2 = y + h*F2(x, y)\n",
    "    return res,res2\n",
    "\n",
    "def F1(x,y,a,b):\n",
    "    res = a*x - b*x*y\n",
    "    return res\n",
    "\n",
    "def F2(x,y,c,d):\n",
    "    res = -c*y + d*x*y\n",
    "    return res\n",
    "\n",
    "def Xsuivant(x,y,h):\n",
    "    res = x + h*F1(x, y)\n",
    "    return res\n",
    "\n",
    "def Ysuivant(x,y,h):\n",
    "    res = y + h*F2(x, y)\n",
    "    return res\n",
    "\n",
    "x=1\n",
    "y=0.5\n",
    "h=0.001\n",
    "TabX=[x]\n",
    "TabY=[y]\n",
    "TabIncr=[]\n",
    "#pc=plot(Xsuivant(x,y,h),0,100, rgbcolor='green')\n",
    "#pc =plot(Xsuivant(x,y,h),0,100, linestyle='--',rgbcolor=(1,0,1))\n",
    "#ps=plot(Ysuivant(x,y,h),0,100, rgbcolor='red')\n",
    "\n",
    "def AffichePop(a,b,c,d,x,y,h,color):\n",
    "    TabX= [x]#Stock les valeur de la Population X\n",
    "    TabY= [y]#Stock les valeur de la Population Y\n",
    "    TabIncr=[]\n",
    "    incr=100/h\n",
    "    for i in range(int(incr)):\n",
    "    x = Xsuivant(a,b,x,y,h)\n",
    "    y = Ysuivant(c,d,x,y,h)\n",
    "    TabIncr+=[h*i]\n",
    "    TabX += [x]\n",
    "    TabY += [y]\n",
    "    #return line(zip(TabIncr,TabY),rgbcolor=color)+line(zip(TabIncr,TabX))\n",
    "    #affiche TabX(en rouge) et TabY(en vert) sur le m^eme graphique\n",
    "    return line(zip(TabX,TabY),rgbcolor=color) #affiche TabX en fonction de TabY\n",
    "\n",
    "a = 0.6\n",
    "b = 0,4\n",
    "c = 0.2\n",
    "d = 0.6\n",
    "x=1 #Etant donn´e qu'il n'y a pas d'unit´e le graphique\n",
    "y=0.5 #repr´esente autant une pop de 1 millions comme de mille\n",
    "h=0.001 #plus h est petit plus grande sera notre pr´ecision (optimal h * range = 100)\n",
    "w=0.25\n",
    "z=0.125\n",
    "AffichePop(a,b,c,d,x,y,h,'green')+AffichePop(a,b,c,d,w,z,h,'red')"
   ]
  }
 ],
 "metadata": {
  "kernelspec": {
   "display_name": "SageMath 9.1",
   "language": "sagemath",
   "metadata": {
    "cocalc": {
     "description": "Open-source mathematical software system",
     "priority": 10,
     "url": "https://www.sagemath.org/"
    }
   },
   "name": "sage-9.1"
  },
  "language_info": {
   "codemirror_mode": {
    "name": "ipython",
    "version": 3
   },
   "file_extension": ".py",
   "mimetype": "text/x-python",
   "name": "python",
   "nbconvert_exporter": "python",
   "pygments_lexer": "ipython3",
   "version": "3.7.3"
  }
 },
 "nbformat": 4,
 "nbformat_minor": 4
}